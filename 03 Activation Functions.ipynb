{
 "cells": [
  {
   "cell_type": "markdown",
   "id": "2a244f9c",
   "metadata": {},
   "source": [
    "# [Notebook 03] Activation Functions\n",
    "\n",
    "So far, our notion of neural networks is entirely linear, the output of our network is directly proportional to every variable (excluding the bias terms). If you recall our formulation of an unactivated neuron, no matter how many inputs it has, its output can be expressed as a sum of:\n",
    "\n",
    "1. Variables multiplied by coefficients\n",
    "\n",
    "2. Constants\n",
    "\n",
    "__This would still be true if we created a 1,000,000 layer deep neural net.__\n",
    "\n",
    "I'll demonstrate this with the calculation of a shallow network with 3 dense layers and no activation function. I won't get into the specifics of Dense layers in this notebook, that will come in the next one, but all you need to know for now is that the calculation is commonly expressed as the dot product (element-wise multiplication) of the input layer and the weights of the dense layer, added to a bias term.\n",
    "\n",
    "So let's say we have an input of size 2:\n",
    "$$ \\text{input} = \\begin{bmatrix} x_1 & x_2 \\end{bmatrix} $$\n",
    "\n",
    "Followed by a dense layer with 4 weights (2 inputs for 2 nodes) and outputs 2 values.\n",
    "\n",
    "$$ \\text{dense1} = \\begin{bmatrix} w^1_{11} & w^1_{12} \\\\\\\\ w^1_{21} & w^1_{22} \\end{bmatrix} $$\n",
    "\n",
    "Followed by a dense layer with 4 weights (2 inputs for 2 nodes) and outputs 2 values.\n",
    "\n",
    "$$ \\text{dense2} = \\begin{bmatrix} w^2_{11} & w^2_{12} \\\\\\\\ w^2_{21} & w^2_{22} \\end{bmatrix} $$\n",
    "\n",
    "Followed by an output layer with 2 weights (2 inputs for 1 nodes) and outputs 1 value.\n",
    "\n",
    "$$ \\text{output} = \\begin{bmatrix} y_1 \\\\\\\\ y_2 \\end{bmatrix} $$\n",
    "\n",
    "__Calculating the output__ - for every layer, we'll multiply the input value by the weihgts of the layer, and add a bias term.\n",
    "\n",
    "__dense1__\n",
    "\n",
    "$$ \n",
    "\\begin{equation}\n",
    "\\begin{aligned}\n",
    "\\text{dense1 output} &= \\begin{bmatrix} x_1 & x_2 \\end{bmatrix} \\cdot \\begin{bmatrix} w^2_{11} & w^2_{12} \\\\\\\\ w^2_{21} & w^2_{22}\\end{bmatrix} + \\begin{bmatrix} b^2_1 & b^2_2\\end{bmatrix}\\\\\n",
    "&= \\begin{bmatrix} x_1 * w^1_{11} + x_2 * w^1_{12} + b^1_1 &  x_1 * w^1_{21} + x_2 * w^1_{22} + b^1_2  \\end{bmatrix}\n",
    "\\end{aligned}\n",
    "\\end{equation}\n",
    "$$\n",
    "\n",
    "__dense2__ - this is getting long so lets remove the $*$ sign and transpose the matrix to save space\n",
    "\n",
    "$$ \n",
    "\\begin{equation}\n",
    "\\begin{aligned}\n",
    "\\text{dense2 output} &= \\begin{bmatrix} x_1  w^1_{11} + x_2  w^1_{12} + b^1_1 &  x_1  w^1_{21} + x_2  w^1_{22} + b^1_2 \\end{bmatrix} \\cdot \\begin{bmatrix} w^1_{11} & w^1_{12} \\\\\\\\ w^1_{21} & w^1_{22}\\end{bmatrix}  + \\begin{bmatrix} b^2_1 & b^2_2\n",
    "\\end{bmatrix} \\\\\n",
    "&= \\begin{bmatrix} (x_1 w^1_{11} + x_2 w^1_{12} + b^1_1) w^2_{11} + (x_1 w^1_{21} + x_2 w^1_{22} + b^1_2) w^2_{12} + b^2_1 \\\\\\\\  (x_1 w^1_{11} + x_2 w^1_{12} + b^1_1) w^2_{21} + (x_1 w^1_{21} + x_2 w^1_{22} + b^1_2) w^2_{22} + b^2_2 \n",
    "\\end{bmatrix}^T \\\\\n",
    "&= \\begin{bmatrix}\n",
    "x_1 (w^1_{11}w^2_{11} + w^1_{21}w^2_{12}) + x_2 (w^1_{12}w^2_{11} + w^1_{22}w^2_{12}) + b^1_1w^2_{11} + b^1_2w^2_{12} + b^2_1 \\\\\\\\\n",
    "x_1 (w^1_{11}w^2_{21} + w^1_{21}w^2_{22}) + x_2 (w^1_{12}w^2_{21} + w^1_{22}w^2_{22}) + b^1_1w^2_{21} + b^1_2w^2_{22} + b^2_2\n",
    "\\end{bmatrix}^T\n",
    "\\end{aligned}\n",
    "\\end{equation}\n",
    "$$\n",
    "\n",
    "__output__ - I hope I didn't make a typo somewhere, but if I did, you probably couldn't tell\n",
    "$$\n",
    "\\begin{equation}\n",
    "\\begin{aligned}\n",
    "\\text{final output} &=\\begin{bmatrix}\n",
    "x_1 (w^1_{11}w^2_{11} + w^1_{21}w^2_{12}) + x_2 (w^1_{12}w^2_{11} + w^1_{22}w^2_{12}) + b^1_1w^2_{11} + b^1_2w^2_{12}+ b^2_1  \\\\\\\\ \n",
    "x_1 (w^1_{11}w^2_{21} + w^1_{21}w^2_{22}) + x_2 (w^1_{12}w^2_{21} + w^1_{22}w^2_{22}) + b^1_1w^2_{21} + b^1_2w^2_{22} + b^2_2 \\end{bmatrix}^T\n",
    "\\cdot \\begin{bmatrix} y_{1} \\\\\\\\ y_{2} \\end{bmatrix}  + \\begin{bmatrix} b_y \\end{bmatrix} \\\\\n",
    "&= \n",
    "x_1 (w^1_{11}w^2_{11}y_{1} + w^1_{21}w^2_{12}y_{1} + w^1_{11}w^2_{21}y_{2} + w^1_{21}w^2_{22}y_{2}) + \n",
    "x_2 (w^1_{12}w^2_{11}y_{1} + w^1_{22}w^2_{12}y_{1} + w^1_{12}w^2_{21}y_{2} + w^1_{22}w^2_{22}y_{2}) + b^1_1(w^2_{11}y_{1} + w^2_{21}y_{2}) + \n",
    "b^1_2(w^2_{12}y_{1} + w^2_{22}y_{2}) + \n",
    "b^2_1y_{1} + b^2_2y_{2} + b_y \n",
    "\\end{aligned}\n",
    "\\end{equation}\n",
    "$$\n",
    "\n",
    "This is a pain to look at and looks complicated but remember that all the weight $w$ and bias $b$ terms are constants. This means that our calculation actually boils down to:\n",
    "\n",
    "$$ x_1 * \\text{constant} + x_2  * \\text{constant} + \\text{constant}\n",
    "$$\n",
    "\n",
    "__So no matter how many layers we add, we get something that could've been expressed as a network with no hidden layers and 1 output node.__\n",
    "\n",
    "# The Solution? Activation Functions\n",
    "\n",
    "See how all the weights and biases of different layers were \"collapsed\" together to form constants in the previous function? Activation functions are basically an intermediate step between each layer that prevents weights and biases from different layers from getting grouped together and reduced to a single number.\n",
    "\n",
    "There's typically two ways to introduce non-linearity:\n",
    " - include a non-linear operation (like exponentiation)\n",
    " - use an \"if-else\"\n",
    " - use both above options (eg. ELU)\n",
    "\n",
    "I won't write out a calculation because the terms won't simplify and we would get a truly incomprehensible mess, but that's the point - with activation functions, __our complex looking function is actually complex__. Adding more layers actually makes the network more __\\~expressive\\~__.\n",
    "\n",
    "KaiTorch implements six activation functions:\n",
    "- `sigmoid`\n",
    "- `tanh`\n",
    "- `ReLU`\n",
    "- `LeakyReLU`\n",
    "- `ELU`\n",
    "- `swish`"
   ]
  },
  {
   "cell_type": "markdown",
   "id": "1e16708b",
   "metadata": {},
   "source": [
    "### Sigmoid\n",
    "\n",
    "$$\n",
    "\\begin{equation}\n",
    "\\begin{aligned}\n",
    "\\text{sigmoid}(x) &= \\frac{1}{1 + e^{-x}} \\\\\n",
    "\\text{sigmoid}'(x) &= \\text{sigmoid}(x) * (1 - \\text{sigmoid}(x))\n",
    "\\end{aligned}\n",
    "\\end{equation}\n",
    "$$"
   ]
  },
  {
   "cell_type": "code",
   "execution_count": 1,
   "id": "56267393",
   "metadata": {},
   "outputs": [],
   "source": [
    "# kaitorch/functional.py\n",
    "\n",
    "def sigmoid(x):\n",
    "    '''\n",
    "    Calculation: y = 1 / (1 + (e ** -x))\n",
    "    '''\n",
    "    if x < 0:\n",
    "        out = math.exp(x) / (1 + math.exp(x))\n",
    "    else:\n",
    "        out = 1 / (1 + math.exp(-x))\n",
    "    return out\n",
    "\n",
    "\n",
    "def d_sigmoid(x):\n",
    "    '''\n",
    "    Derivative: dy/dx = sigmoid(x) * (1 - sigmoid(x))\n",
    "    Chain Rule: dL/dx = dL/dy * dy/dx\n",
    "                      = dL/dy * (sigmoid(x) * (1 - sigmoid(x)))\n",
    "    '''\n",
    "    out = sigmoid(x) * (1 - sigmoid(x))\n",
    "    return out"
   ]
  },
  {
   "cell_type": "markdown",
   "id": "66e634fb",
   "metadata": {},
   "source": [
    "### Tanh\n",
    "\n",
    "$$\n",
    "\\begin{equation}\n",
    "\\begin{aligned}\n",
    "\\text{tanh}(x) &= \\frac{e ^ {2x} - 1}{e ^ {2x} + 1} \\\\\n",
    "\\text{tanh}'(x) &= 1 - \\text{tanh}(x) ^2\n",
    "\\end{aligned}\n",
    "\\end{equation}\n",
    "$$"
   ]
  },
  {
   "cell_type": "code",
   "execution_count": 2,
   "id": "21f3c80a",
   "metadata": {},
   "outputs": [],
   "source": [
    "# kaitorch/functional.py\n",
    "\n",
    "def tanh(x):\n",
    "    '''\n",
    "    Calculation: y = (e ** (2 * x) - 1) / (e ** (2 * x) + 1)\n",
    "    '''\n",
    "    out = (math.exp(2 * x) - 1) / (math.exp(2 * x) + 1)\n",
    "    return out\n",
    "\n",
    "\n",
    "def d_tanh(x):\n",
    "    '''\n",
    "    Derivative: dy/dx = (1 - (tanh(x) ** 2))\n",
    "    Chain Rule: dL/dx = dL/dy * dy/dx\n",
    "                      = dL/dy * (1 - (tanh(x) ** 2))\n",
    "    '''\n",
    "    out = (1 - (tanh(x) ** 2))\n",
    "    return out"
   ]
  },
  {
   "cell_type": "markdown",
   "id": "8a8d75df",
   "metadata": {},
   "source": [
    "### ReLU (Rectified Linear Unit)\n",
    "\n",
    "$$\n",
    "\\begin{equation}\n",
    "\\begin{aligned}\n",
    "\\text{ReLU}(x) &= \n",
    "\\begin{cases}\n",
    "x & \\text{if } x \\geq 0\\\\\n",
    "0 & \\text{if } x \\lt 0\\\\\n",
    "\\end{cases} \\\\\n",
    "\\text{ReLU}'(x) &= \n",
    "\\begin{cases}\n",
    "1 & \\text{if } x \\geq 0\\\\\n",
    "0 & \\text{if } x \\lt 0\\\\\n",
    "\\end{cases}\n",
    "\\end{aligned}\n",
    "\\end{equation}\n",
    "$$"
   ]
  },
  {
   "cell_type": "code",
   "execution_count": 3,
   "id": "1fc0369a",
   "metadata": {},
   "outputs": [],
   "source": [
    "# kaitorch/functional.py\n",
    "\n",
    "def ReLU(x):\n",
    "    '''\n",
    "    Calculation: y = x if x ≥ 0\n",
    "                     0 if x < 0\n",
    "    '''\n",
    "    out = 0 if x < 0 else x\n",
    "    return out\n",
    "\n",
    "\n",
    "def d_ReLU(x):\n",
    "    '''\n",
    "    Derivative: dy/dx = 1 if x ≥ 0\n",
    "                        0 if x < 0\n",
    "    Chain Rule: dL/dx = dL/dy * dy/dx\n",
    "                      = dL/dy * 1 if x ≥ 0\n",
    "                        dL/dy * 0 if x < 0\n",
    "    '''\n",
    "    out = (x > 0) * 1\n",
    "    return out"
   ]
  },
  {
   "cell_type": "markdown",
   "id": "581ce14a",
   "metadata": {},
   "source": [
    "### LeakyReLU (Rectified Linear Unit)\n",
    "\n",
    "$$\n",
    "\\begin{equation}\n",
    "\\begin{aligned}\n",
    "\\text{LeakyReLU}(x, α) &= \n",
    "\\begin{cases}\n",
    "x & \\text{if } x \\geq 0\\\\\n",
    "x * α & \\text{if } x \\lt 0\\\\\n",
    "\\end{cases} \\\\\n",
    "\\text{LeakyReLU}'(x, α) &= \n",
    "\\begin{cases}\n",
    "1 & \\text{if } x \\geq 0\\\\\n",
    "α & \\text{if } x \\lt 0\\\\\n",
    "\\end{cases}\n",
    "\\end{aligned}\n",
    "\\end{equation}\n",
    "$$"
   ]
  },
  {
   "cell_type": "code",
   "execution_count": 4,
   "id": "c07f04f1",
   "metadata": {},
   "outputs": [],
   "source": [
    "# kaitorch/functional.py\n",
    "\n",
    "def LeakyReLU(x, alpha=0.1):\n",
    "    '''\n",
    "    Calculation: y = x if x ≥ 0\n",
    "                     x * α if x < 0\n",
    "    '''\n",
    "    out = x * alpha if x < 0 else x\n",
    "    return out\n",
    "\n",
    "\n",
    "def d_LeakyReLU(x, alpha=0.1):\n",
    "    '''\n",
    "    Derivative: dy/dx = 1 if x ≥ 0\n",
    "                        α if x < 0\n",
    "    Chain Rule: dL/dx = dL/dy * dy/dx\n",
    "                      = dL/dy * 1 if x ≥ 0\n",
    "                        dL/dy * α if x < 0\n",
    "    '''\n",
    "    out = alpha if x < 0 else 1\n",
    "    return out"
   ]
  },
  {
   "cell_type": "markdown",
   "id": "4c2b688a",
   "metadata": {},
   "source": [
    "### ELU (Exponential Linear Unit)\n",
    "\n",
    "$$\n",
    "\\begin{equation}\n",
    "\\begin{aligned}\n",
    "\\text{ELU}(x, α) &= \n",
    "\\begin{cases}\n",
    "x & \\text{if } x \\geq 0\\\\\n",
    "α \\cdot (e^x - 1) & \\text{if } x \\lt 0\\\\\n",
    "\\end{cases} \\\\\n",
    "\\text{ELU}'(x) &= \n",
    "\\begin{cases}\n",
    "1 & \\text{if } x \\geq 0\\\\\n",
    "α \\cdot e^x & \\text{if } x \\lt 0\\\\\n",
    "\\end{cases}\n",
    "\\end{aligned}\n",
    "\\end{equation}\n",
    "$$"
   ]
  },
  {
   "cell_type": "code",
   "execution_count": 5,
   "id": "f056e208",
   "metadata": {},
   "outputs": [],
   "source": [
    "# kaitorch/functional.py\n",
    "\n",
    "def ELU(x, alpha=1.0):\n",
    "\n",
    "    '''\n",
    "    Calculation: y = x if x ≥ 0\n",
    "                     α * ((e ** x) - 1) if x < 0\n",
    "    '''\n",
    "    out = alpha * (math.exp(x) - 1) if x < 0 else x\n",
    "    return out\n",
    "\n",
    "\n",
    "def d_ELU(x, alpha=1.0):\n",
    "    '''\n",
    "    Derivative: dy/dx = 1 if x ≥ 0\n",
    "                        α * (e ** x) if x < 0\n",
    "    Chain Rule: dL/dx = dL/dy * dy/dx\n",
    "                      = dL/dy * 1 if x ≥ 0\n",
    "                        dL/dy * α * (e ** x) if x < 0\n",
    "    '''\n",
    "    out = (alpha * math.exp(x)) if x < 0 else 1\n",
    "    return out"
   ]
  },
  {
   "cell_type": "markdown",
   "id": "509dd040",
   "metadata": {},
   "source": [
    "### Swish\n",
    "\n",
    "$$\n",
    "\\begin{equation}\n",
    "\\begin{aligned}\n",
    "\\text{swish}(x, β) &= x \\cdot \\text{sigmoid}(x \\cdot β) \\\\\n",
    "\\text{swish}'(x, β) &= \\text{swish}(x, β) + \\text{sigmoid}(x \\cdot β) \\cdot (1 - \\text{swish}(x, β))\n",
    "\\end{aligned}\n",
    "\\end{equation}\n",
    "$$"
   ]
  },
  {
   "cell_type": "code",
   "execution_count": 6,
   "id": "27e85aa5",
   "metadata": {},
   "outputs": [],
   "source": [
    "# kaitorch/functional.py\n",
    "\n",
    "def swish(x, beta=1.0):\n",
    "    '''\n",
    "    Calculation: y = x * sigmoid(β * x)\n",
    "    '''\n",
    "    out = x * sigmoid(x * beta)\n",
    "    return out\n",
    "\n",
    "\n",
    "def d_swish(x, beta=1.0):\n",
    "    '''\n",
    "    Derivative: dy/dx = swish(x, β) + sigmoid(β * x) * (1 - swish(x, β))\n",
    "    Chain Rule: dL/dx = dL/dy * dy/dx\n",
    "                      = dL/dy * swish(x, β) + sigmoid(β * x) * (1 - swish(x, β))\n",
    "    '''\n",
    "\n",
    "    out = swish(x, beta) + sigmoid(beta * x) * (1 - swish(x, beta))\n",
    "    return out"
   ]
  },
  {
   "cell_type": "markdown",
   "id": "4acde096",
   "metadata": {},
   "source": [
    "To top off `functional.py`, which contains the calculations and derivatives for each activation function, we'll include this at the top of the module."
   ]
  },
  {
   "cell_type": "code",
   "execution_count": 7,
   "id": "13db5e28",
   "metadata": {},
   "outputs": [],
   "source": [
    "# kaitorch/functional.py \n",
    "\n",
    "import math\n",
    "import kaitorch.activations as A\n",
    "\n",
    "activations = A.__all__\n",
    "derivatives = [f'd_{activation}' for activation in activations]\n",
    "\n",
    "__all__ = [x for y in zip(activations, derivatives) for x in y]"
   ]
  },
  {
   "cell_type": "markdown",
   "id": "350e4add",
   "metadata": {},
   "source": [
    "# Activations Module\n",
    "\n",
    "Now that we have the calculation & derivatives for each activation function, let's create an `activations.py` module with a `class` for each activation, which just like how we defined our base operations, we implement the `_forward()` and `_backward()` methods. \n",
    "\n",
    "The reason we use a class instead of a function is because unlike our base operations, some activation functions take hyperparameters like `α` and `β` which we want to keep track of when we first instantiate the activation function."
   ]
  },
  {
   "cell_type": "code",
   "execution_count": 8,
   "id": "e7d23e8c",
   "metadata": {},
   "outputs": [],
   "source": [
    "# kaitorch/activations.py\n",
    "\n",
    "__all__ = ['sigmoid', 'tanh', 'ReLU', 'LeakyReLU', 'ELU', 'swish', 'softmax']\n",
    "\n",
    "import warnings\n",
    "\n",
    "import kaitorch.functional as F\n",
    "from kaitorch.core import Scalar\n",
    "\n",
    "\n",
    "class Activation:\n",
    "    pass\n",
    "\n",
    "\n",
    "class sigmoid(Activation):\n",
    "\n",
    "    def __init__(self):\n",
    "        pass\n",
    "\n",
    "    def __repr__(self):\n",
    "        return 'sigmoid'\n",
    "\n",
    "    def __call__(self, scalar):\n",
    "\n",
    "        def _forward():\n",
    "            y = F.sigmoid(scalar.data)\n",
    "            return Scalar(y, (scalar, ), 'sigmoid')\n",
    "        out = _forward()\n",
    "\n",
    "        def _backward():\n",
    "            scalar.grad += F.d_sigmoid(out.data) * out.grad\n",
    "        out._backward = _backward\n",
    "\n",
    "        return out\n",
    "\n",
    "\n",
    "class tanh(Activation):\n",
    "\n",
    "    def __init__(self):\n",
    "        pass\n",
    "\n",
    "    def __repr__(self):\n",
    "        return 'tanh'\n",
    "\n",
    "    def __call__(self, scalar):\n",
    "\n",
    "        def _forward():\n",
    "            y = F.tanh(scalar.data)\n",
    "            return Scalar(y, (scalar, ), 'tanh')\n",
    "        out = _forward()\n",
    "\n",
    "        def _backward():\n",
    "            scalar.grad += F.d_tanh(out.data) * out.grad\n",
    "        out._backward = _backward\n",
    "\n",
    "        return out\n",
    "\n",
    "\n",
    "class swish(Activation):\n",
    "\n",
    "    def __init__(self, beta=None):\n",
    "\n",
    "        self.beta = beta\n",
    "        if beta is None:\n",
    "            self.beta = 1\n",
    "            warnings.warn('Parameter {beta} not specified, using default value 1')\n",
    "\n",
    "    def __repr__(self):\n",
    "        return f'swish(β={self.beta})'\n",
    "\n",
    "    def __call__(self, scalar):\n",
    "\n",
    "        def _forward():\n",
    "            y = F.swish(scalar.data, self.beta)\n",
    "            return Scalar(y, (scalar, ), 'swish')\n",
    "        out = _forward()\n",
    "\n",
    "        def _backward():\n",
    "            scalar.grad += F.d_swish(out.data, self.beta) * out.grad\n",
    "        out._backward = _backward\n",
    "\n",
    "        return out\n",
    "\n",
    "\n",
    "class ReLU(Activation):\n",
    "\n",
    "    def __init__(self):\n",
    "        pass\n",
    "\n",
    "    def __repr__(self):\n",
    "        return 'ReLU'\n",
    "\n",
    "    def __call__(self, scalar):\n",
    "\n",
    "        def _forward():\n",
    "            y = F.ReLU(scalar.data)\n",
    "            return Scalar(y, (scalar, ), 'ReLU')\n",
    "        out = _forward()\n",
    "\n",
    "        def _backward():\n",
    "            scalar.grad += F.d_ReLU(out.data) * out.grad\n",
    "        out._backward = _backward\n",
    "\n",
    "        return out\n",
    "\n",
    "\n",
    "class LeakyReLU(Activation):\n",
    "\n",
    "    def __init__(self, alpha=None):\n",
    "\n",
    "        self.alpha = alpha\n",
    "        if alpha is None:\n",
    "            self.alpha = 0.01\n",
    "            warnings.warn('Parameter {alpha} not specified, using default value 0.01')\n",
    "\n",
    "    def __repr__(self):\n",
    "        return f'LeakyReLU(α={self.alpha})'\n",
    "\n",
    "    def __call__(self, scalar):\n",
    "\n",
    "        def _forward():\n",
    "            y = F.LeakyReLU(scalar.data, self.alpha)\n",
    "            return Scalar(y, (scalar, ), 'LeakyReLU')\n",
    "        out = _forward()\n",
    "\n",
    "        def _backward():\n",
    "            scalar.grad += F.d_LeakyReLU(out.data, self.alpha) * out.grad\n",
    "        out._backward = _backward\n",
    "\n",
    "        return out\n",
    "\n",
    "\n",
    "class ELU(Activation):\n",
    "\n",
    "    def __init__(self, alpha=None):\n",
    "\n",
    "        self.alpha = alpha\n",
    "        if alpha is None:\n",
    "            self.alpha = 0.01\n",
    "            warnings.warn('Parameter {alpha} not specified, using default value 0.01')\n",
    "\n",
    "    def __repr__(self):\n",
    "        return f'ELU(α={self.alpha})'\n",
    "\n",
    "    def __call__(self, scalar):\n",
    "\n",
    "        def _forward():\n",
    "            y = F.ELU(scalar.data, self.alpha)\n",
    "            return Scalar(y, (scalar, ), 'ELU')\n",
    "        out = _forward()\n",
    "\n",
    "        def _backward():\n",
    "            scalar.grad += F.d_ELU(out.data, self.alpha) * out.grad\n",
    "        out._backward = _backward\n",
    "\n",
    "        return out\n",
    "    \n",
    "def softmax(ins: list):\n",
    "\n",
    "    exps = [n.exp() for n in ins]\n",
    "    sums = sum([n.data for n in exps])\n",
    "    outs = [n/sums for n in exps]\n",
    "\n",
    "    return outs\n"
   ]
  },
  {
   "cell_type": "markdown",
   "id": "3fa01f07",
   "metadata": {},
   "source": [
    "You might be wondering why I didn't mention softmax earlier and why it's defined differently.\n",
    "\n",
    "Since we're building a neural network that operates over scalar values (which is very inefficient but useful for understanding how neural nets work), and the 6 activation functions we defined above operate on scalar values, it aligns well with what we're building.\n",
    "\n",
    "However, softmax operates over an __array input__, and how softmax activates each neuron depends on the other values in the layer. This what it does:\n",
    "\n",
    "1. natural exponentiation of every element in the array\n",
    "\n",
    "2. normalization so all terms sum to 1\n",
    "\n",
    "Even though softmax doesn't fit the theme of KaiTorch, I still wanted to implement since its commonly used as the final activation for multiclass classification."
   ]
  },
  {
   "cell_type": "markdown",
   "id": "b0b05efa",
   "metadata": {},
   "source": [
    "# Visualizing the Activation Functions"
   ]
  },
  {
   "cell_type": "code",
   "execution_count": 9,
   "id": "b3d04cb8",
   "metadata": {},
   "outputs": [],
   "source": [
    "import kaitorch.activations as A\n",
    "import kaitorch.functional as F\n",
    "\n",
    "import numpy as np\n",
    "import matplotlib.pyplot as plt\n",
    "\n",
    "A.__all__.remove('softmax')"
   ]
  },
  {
   "cell_type": "code",
   "execution_count": 10,
   "id": "1e040396",
   "metadata": {},
   "outputs": [
    {
     "data": {
      "text/plain": [
       "['sigmoid', 'tanh', 'ReLU', 'LeakyReLU', 'ELU', 'swish']"
      ]
     },
     "execution_count": 10,
     "metadata": {},
     "output_type": "execute_result"
    }
   ],
   "source": [
    "list(A.__all__)"
   ]
  },
  {
   "cell_type": "code",
   "execution_count": 11,
   "id": "391d6ca8",
   "metadata": {},
   "outputs": [
    {
     "data": {
      "text/plain": [
       "['sigmoid',\n",
       " 'd_sigmoid',\n",
       " 'tanh',\n",
       " 'd_tanh',\n",
       " 'ReLU',\n",
       " 'd_ReLU',\n",
       " 'LeakyReLU',\n",
       " 'd_LeakyReLU',\n",
       " 'ELU',\n",
       " 'd_ELU',\n",
       " 'swish',\n",
       " 'd_swish',\n",
       " 'softmax',\n",
       " 'd_softmax']"
      ]
     },
     "execution_count": 11,
     "metadata": {},
     "output_type": "execute_result"
    }
   ],
   "source": [
    "list(F.__all__)"
   ]
  },
  {
   "cell_type": "code",
   "execution_count": 12,
   "id": "c6984db1",
   "metadata": {},
   "outputs": [],
   "source": [
    "def plot_activation(activation):\n",
    "    \n",
    "    xs = np.arange(-6, 6, 0.1) \n",
    "    zeros = np.zeros(len(xs))\n",
    "\n",
    "    activ = getattr(F, activation)\n",
    "    deriv = getattr(F, f'd_{activation}')\n",
    "    \n",
    "    activs = [activ(x) for x in xs]\n",
    "    derivs = [deriv(x) for x in xs]\n",
    "    \n",
    "    minim = min(min(activs), min(derivs))\n",
    "    maxim = max(max(activs), max(derivs))\n",
    "        \n",
    "    fig, axes = plt.subplots(1, 3, figsize=(15, 4), sharey=True)\n",
    "    fig.suptitle(activation, fontsize=16, weight='bold')\n",
    "\n",
    "    axes[0].plot(xs, activs, color='blue')\n",
    "    axes[0].plot(xs, zeros, color='black', linestyle='dashed')\n",
    "    axes[0].set_title('Activation Function')\n",
    "\n",
    "    axes[1].plot(xs, activs, color='blue')\n",
    "    axes[1].plot(xs, derivs, color='green')\n",
    "    axes[1].plot(xs, zeros, color='black', linestyle='dashed')\n",
    "    axes[1].set_title('Overlay')\n",
    "\n",
    "    axes[2].plot(xs, derivs, color='green')\n",
    "    axes[2].plot(xs, zeros, color='black', linestyle='dashed')\n",
    "    axes[2].set_title('Derivative')\n",
    "    \n",
    "    plt.xlim(-6, 6)\n",
    "    plt.ylim(minim - 0.1, maxim + 0.1)\n",
    "    plt.tight_layout()\n",
    "    plt.show()"
   ]
  },
  {
   "cell_type": "code",
   "execution_count": 13,
   "id": "a878f65e",
   "metadata": {
    "scrolled": false
   },
   "outputs": [
    {
     "data": {
      "image/png": "[encoded data removed]",
      "text/plain": [
       "<Figure size 1080x288 with 3 Axes>"
      ]
     },
     "metadata": {
      "needs_background": "light"
     },
     "output_type": "display_data"
    },
    {
     "data": {
      "image/png": "[encoded data removed]",
      "text/plain": [
       "<Figure size 1080x288 with 3 Axes>"
      ]
     },
     "metadata": {
      "needs_background": "light"
     },
     "output_type": "display_data"
    },
    {
     "data": {
      "image/png": "[encoded data removed]",
      "text/plain": [
       "<Figure size 1080x288 with 3 Axes>"
      ]
     },
     "metadata": {
      "needs_background": "light"
     },
     "output_type": "display_data"
    },
    {
     "data": {
      "image/png": "[encoded data removed]",
      "text/plain": [
       "<Figure size 1080x288 with 3 Axes>"
      ]
     },
     "metadata": {
      "needs_background": "light"
     },
     "output_type": "display_data"
    },
    {
     "data": {
      "image/png": "[encoded data removed]",
      "text/plain": [
       "<Figure size 1080x288 with 3 Axes>"
      ]
     },
     "metadata": {
      "needs_background": "light"
     },
     "output_type": "display_data"
    },
    {
     "data": {
      "image/png": "[encoded data removed]",
      "text/plain": [
       "<Figure size 1080x288 with 3 Axes>"
      ]
     },
     "metadata": {
      "needs_background": "light"
     },
     "output_type": "display_data"
    }
   ],
   "source": [
    "for activation in A.__all__:\n",
    "    \n",
    "    plot_activation(activation)"
   ]
  },
  {
   "cell_type": "markdown",
   "id": "187e6e70",
   "metadata": {},
   "source": [
    "# Activating our Scalars\n",
    "\n",
    "The last step to implementing activation functions is to allow our `Scalar` class to use them, which can be performed using this code."
   ]
  },
  {
   "cell_type": "code",
   "execution_count": 14,
   "id": "ec0c7184",
   "metadata": {},
   "outputs": [],
   "source": [
    "# kaitorch/core.py\n",
    "\n",
    "def activation(self, activation):\n",
    "\n",
    "    import kaitorch.activations as A\n",
    "\n",
    "    available = A.__all__\n",
    "\n",
    "    if isinstance(activation, str) and activation in available:\n",
    "        return getattr(A, activation)()(self)\n",
    "\n",
    "    elif isinstance(activation, A.Activation):\n",
    "        return activation(self)\n",
    "\n",
    "    else:\n",
    "        raise Exception(f'Activation {activation} not in {available}')\n",
    "        \n",
    "Scalar.activation = activation"
   ]
  },
  {
   "cell_type": "markdown",
   "id": "9ef22d69",
   "metadata": {},
   "source": [
    "__Just like Keras__, we want to be able get indicate our activation using either a `str` or `Activation` object.\n",
    "\n",
    "```python\n",
    "# Keras-esque\n",
    "Dense(64, activation='relu')\n",
    "Dense(64, activation=activations.relu)\n",
    "```\n",
    "\n",
    "So we use `isinstance()` to check the type\n",
    "- If our input is a `str`, we check if the activation is in `activation.py` using `getattr()`\n",
    "- If our input is an `Activation` object, we can directly use it\n",
    "\n",
    "With this, `Scalar` now has an activation method, which when called, will apply the specified non-linearity to the value."
   ]
  },
  {
   "cell_type": "markdown",
   "id": "724f2931",
   "metadata": {},
   "source": [
    "**Quick Note on \"module.\\_\\_all\\_\\_\"**\n",
    "\n",
    "If you don't know what the `__all__` attribute does, it defines what's imported when you do something like `from [module] import *` if implemented. It's also useful for telling the user what classes/functions they are intended to use."
   ]
  },
  {
   "cell_type": "code",
   "execution_count": 15,
   "id": "9d1d5489",
   "metadata": {
    "scrolled": true
   },
   "outputs": [
    {
     "data": {
      "text/plain": [
       "['sigmoid', 'tanh', 'ReLU', 'LeakyReLU', 'ELU', 'swish']"
      ]
     },
     "execution_count": 15,
     "metadata": {},
     "output_type": "execute_result"
    }
   ],
   "source": [
    "A.__all__"
   ]
  },
  {
   "cell_type": "markdown",
   "id": "08a0ab63",
   "metadata": {},
   "source": [
    "Of course, nothing is stopping you from access other classes/functions in the module, you just need to specify the name when importing like so"
   ]
  },
  {
   "cell_type": "code",
   "execution_count": 16,
   "id": "8107ed22",
   "metadata": {},
   "outputs": [],
   "source": [
    "from kaitorch.activations import softmax"
   ]
  },
  {
   "cell_type": "markdown",
   "id": "ba9e7199",
   "metadata": {},
   "source": [
    "__Up Next: Building a Multi-layer Perceptron__ $\\Rightarrow$"
   ]
  }
 ],
 "metadata": {
  "kernelspec": {
   "display_name": "Python 3 (ipykernel)",
   "language": "python",
   "name": "python3"
  },
  "language_info": {
   "codemirror_mode": {
    "name": "ipython",
    "version": 3
   },
   "file_extension": ".py",
   "mimetype": "text/x-python",
   "name": "python",
   "nbconvert_exporter": "python",
   "pygments_lexer": "ipython3",
   "version": "3.9.7"
  }
 },
 "nbformat": 4,
 "nbformat_minor": 5
}
