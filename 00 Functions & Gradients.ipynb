{
 "cells": [
  {
   "cell_type": "markdown",
   "id": "0a648ddc",
   "metadata": {},
   "source": [
    "# [Notebook 00] Functions and Gradients\n",
    "\n",
    "### __Here we are, the first notebook.__\n",
    "\n",
    "In typical Python fashion, the first element in a sequence has an index of 0.\n",
    "\n",
    "Actually, the real reason is there are 11 notebooks and the number emojis only up to 🔟.\n",
    "\n",
    "If there was an 11 emoji this would've been notebook 1.\n",
    "\n",
    "Anyways, this is the best intro I could come up with and you're here for a very specific reason so let's get started.\n",
    "\n",
    "### Machine Learning\n",
    "\n",
    "A heavily used term with an increasingly squishy meaning nowadays, potentially encompassing anything from an Excel line of best fit to OpenAI GPT4.\n",
    "\n",
    "I define ML as a class of algorithms that attempt to learn rules that map inputs to outputs. What do we call things that map inputs to outputs?\n",
    "\n",
    "__Functions__ - ML models are essentially (sometimes very large) functions. Neural networks included.\n",
    "\n",
    "<br><center><b><i> If ML models are just functions, why the hype? Can't we just write out the function? </b></i></center>\n",
    "\n",
    "Well, we could. For example, its possible to calculate a line of best fit by hand. But as\n",
    "- data increases in dimensionality\n",
    "- the relationship between inputs and ouputs becomes convoluted\n",
    "- the size of our dataset becomes massive\n",
    "- our model architectures get more complex\n",
    "\n",
    "... finding a good function becomes increasingly hard, like, calculating 170 trillion parameters hard.\n",
    "\n",
    "So to answer the question, what makes ML special is that __it can learn the function for us.__\n",
    "\n",
    "### ML Algorithms\n",
    "\n",
    "If the model is the function, the algorithm is the logic, the set of instructions/procedures used to update the function to better map inputs to desired outputs.\n",
    "\n",
    "Different ML algorithms use different logic to learn and different parameters to represent the function (eg. linear regression uses slopes and intercepts).\n",
    "\n",
    "Good models are the result of iteratively \"training\" on a dataset using an algorithm, and finding the value of parameters (think slope and intercept) for the function that best maps inputs to outputs. This model can then be used to make predictions on unseen data.\n",
    "\n",
    "### Why Neural Networks?\n",
    "\n",
    "- They're really good at predicting things (this is a vast generalization but generally true)\n",
    "- They're fun to train (especially really big ones)\n",
    "\n",
    "Perhaps rather anticlimatically we won't be touching neural networks in this notebook. __Lets start with functions.__"
   ]
  },
  {
   "cell_type": "code",
   "execution_count": 1,
   "id": "e4746c4d",
   "metadata": {},
   "outputs": [],
   "source": [
    "import numpy as np\n",
    "import matplotlib.pyplot as plt"
   ]
  },
  {
   "cell_type": "markdown",
   "id": "944374bb",
   "metadata": {},
   "source": [
    "# Functions\n",
    "\n",
    "Since ML models are functions, this is our motivation to start the discussion here.\n",
    "\n",
    "We know a function typically looks something like this:\n",
    "\n",
    "$$f(x) = 2x^2 - 3x + 4$$\n",
    "\n",
    "Where the function $f$ takes input $x$, and produces output $f(x)$. The rule for mapping input $x$ to output $f(x)$ is the expression on the right of the equals sign."
   ]
  },
  {
   "cell_type": "code",
   "execution_count": 2,
   "id": "ac3d5fa0",
   "metadata": {},
   "outputs": [],
   "source": [
    "def f(x):\n",
    "    return 2*x**2 - 3*x + 4"
   ]
  },
  {
   "cell_type": "markdown",
   "id": "11f25eb8",
   "metadata": {},
   "source": [
    "This is what it looks like for $-6 \\leq x \\leq 6$"
   ]
  },
  {
   "cell_type": "code",
   "execution_count": 3,
   "id": "c709b583",
   "metadata": {},
   "outputs": [
    {
     "data": {
      "image/png": "[encoded data removed]",
      "text/plain": [
       "<Figure size 432x288 with 1 Axes>"
      ]
     },
     "metadata": {
      "needs_background": "light"
     },
     "output_type": "display_data"
    }
   ],
   "source": [
    "x = np.arange(-6, 6, step=0.1)\n",
    "fx = f(x)\n",
    "plt.plot(x, fx);"
   ]
  },
  {
   "cell_type": "markdown",
   "id": "ea00d38b",
   "metadata": {},
   "source": [
    "Here are the outputs of the function for various inputs:"
   ]
  },
  {
   "cell_type": "code",
   "execution_count": 4,
   "id": "bd7f6017",
   "metadata": {},
   "outputs": [
    {
     "name": "stdout",
     "output_type": "stream",
     "text": [
      "When x = -3, the value of f(x) = 31\n",
      "When x = -1, the value of f(x) = 9\n",
      "When x =  2, the value of f(x) = 6\n",
      "When x =  4, the value of f(x) = 24\n"
     ]
    }
   ],
   "source": [
    "for x in [-3, -1, 2, 4]:\n",
    "    print(f'When x = {x:2}, the value of f(x) = {f(x)}')"
   ]
  },
  {
   "cell_type": "markdown",
   "id": "506f8267",
   "metadata": {},
   "source": [
    "# Gradients\n",
    "\n",
    "A useful thing to know about functions is its slopes (or gradients).\n",
    "\n",
    "If we revisit our primary school maths class, we'll remember slope of a line equals rise over run, where rise is the change in the vertical axis $f(x)$, and run is the change in the horizontal axis $x$.\n",
    "\n",
    "$$\\text{Slope} = \\frac{\\text{Rise}}{\\text{Run}} = \\frac{\\Delta f(x)}{\\Delta x} $$\n",
    "\n",
    "__This is how we were taught__\n",
    "\n",
    "1) Pick the a value of $x$ that you want to know the slope of\n",
    "\n",
    "2) Calculate the height of the function $f(x)$\n",
    "\n",
    "3) Pick another value $x+h$, where $h$ is a small value, so $x+h$ is very close to $x$\n",
    "\n",
    "4) Calculate the new height of the function $f(x+h)$\n",
    "\n",
    "5) Run is the change in position expressed as $\\Delta x = (x+h) - x$\n",
    "\n",
    "6) Rise is the change in height expressed as $\\Delta f(x) = f(x+h) - f(x)$\n",
    "\n",
    "7) Divide rise by run to get the slope\n",
    "\n",
    "__Expressed as one equation__\n",
    "\n",
    "$$\\text{Slope} = \\frac{f(x+h) - f(x)}{(x+h) - x} =\\frac{f(x+h) - f(x)}{h} $$\n",
    "\n",
    "This gives you the slope of a straight line. Inconveniently, not all functions, including the one above, are straight lines.\n",
    "\n",
    "However, if you look 👀🔎 __very very closely__ 🔍👀 - like 1200 times more closely, they start to look like lines."
   ]
  },
  {
   "cell_type": "code",
   "execution_count": 5,
   "id": "68b8be28",
   "metadata": {},
   "outputs": [
    {
     "data": {
      "image/png": "[encoded data removed]",
      "text/plain": [
       "<Figure size 432x288 with 1 Axes>"
      ]
     },
     "metadata": {
      "needs_background": "light"
     },
     "output_type": "display_data"
    }
   ],
   "source": [
    "x = np.arange(1.00, 1.01, step=1e-5); fx = f(x)\n",
    "plt.plot(x, fx)\n",
    "plt.title('see? :)', fontweight='bold', fontsize=20);"
   ]
  },
  {
   "cell_type": "markdown",
   "id": "7d26701b",
   "metadata": {},
   "source": [
    "So, if we make our $h$ small enough, we can get a pretty good approximation of the slope!\n",
    "\n",
    "Here's our calculation of the (approximate) slope of what's shown above, with $x=1.00$ and $h=0.01$"
   ]
  },
  {
   "cell_type": "code",
   "execution_count": 6,
   "id": "25bbdb22",
   "metadata": {},
   "outputs": [
    {
     "data": {
      "text/plain": [
       "1.0199999999999765"
      ]
     },
     "execution_count": 6,
     "metadata": {},
     "output_type": "execute_result"
    }
   ],
   "source": [
    "h = 0.01\n",
    "x = 1.00\n",
    "(f(x+h)-f(x))/h"
   ]
  },
  {
   "cell_type": "markdown",
   "id": "26939455",
   "metadata": {},
   "source": [
    "Since our function is a relatively simple polynomial function, we can use the power rule to calculate the derivative by hand.\n",
    "\n",
    "$$f(x) = 2x^2 + 3x - 4$$\n",
    "\n",
    "__Power Rule__\n",
    "\n",
    "The derivative of expressions in the form of $x^n$ can be calculated as:\n",
    "\n",
    "$$ \\frac{d}{dx} x^n = n \\cdot x^{n-1} $$\n",
    "\n",
    "Applying the power rule element-wise\n",
    "- $ \\frac{d}{dx} 2x^2 = 2 \\cdot 2x^1 = 4x$\n",
    "- $ \\frac{d}{dx} -3x^1 = 1 \\cdot -3x^0 = -3$\n",
    "- $ \\frac{d}{dx} 4 = 0$\n",
    "\n",
    "Adding everything up\n",
    "$$\\frac{d}{dx}f(x) = f'(x) = 4x - 3$$"
   ]
  },
  {
   "cell_type": "code",
   "execution_count": 7,
   "id": "1de0304a",
   "metadata": {},
   "outputs": [
    {
     "data": {
      "text/plain": [
       "1"
      ]
     },
     "execution_count": 7,
     "metadata": {},
     "output_type": "execute_result"
    }
   ],
   "source": [
    "def d_f(x):\n",
    "    return 4*x - 3\n",
    "\n",
    "d_f(1)"
   ]
  },
  {
   "cell_type": "markdown",
   "id": "055af33b",
   "metadata": {},
   "source": [
    "Plugging in x = 1, we get $4 \\cdot 1 - 3 = 1$, which is pretty close to what we calculated in the cell above - but not exact.\n",
    "\n",
    "Now, let's try making our interval $h$ 10x, 100x, and 1000x smaller:"
   ]
  },
  {
   "cell_type": "code",
   "execution_count": 8,
   "id": "b25b171b",
   "metadata": {},
   "outputs": [
    {
     "name": "stdout",
     "output_type": "stream",
     "text": [
      "10x smaller:   1.0019999999997253\n",
      "100x smaller:  1.000199999996454\n",
      "1000x smaller: 1.000020000008206\n"
     ]
    }
   ],
   "source": [
    "x = 1.00\n",
    "\n",
    "h = 0.01/10\n",
    "print('10x smaller:  ', (f(x+h)-f(x))/h)\n",
    "\n",
    "h = 0.01/100\n",
    "print('100x smaller: ', (f(x+h)-f(x))/h)\n",
    "\n",
    "h = 0.01/1000\n",
    "print('1000x smaller:', (f(x+h)-f(x))/h)"
   ]
  },
  {
   "cell_type": "markdown",
   "id": "41a30732",
   "metadata": {},
   "source": [
    "You'll notice as $h$ gets smaller, we're getting closer and closer to the actual derivative - let's plot it.\n",
    "\n",
    "On the horizontal axis is our decreasing step sizes $h$, and on the vertical axis is the difference between the approximate and actual derivatives:"
   ]
  },
  {
   "cell_type": "code",
   "execution_count": 9,
   "id": "048faa9e",
   "metadata": {},
   "outputs": [
    {
     "data": {
      "image/png": "[encoded data removed]",
      "text/plain": [
       "<Figure size 432x288 with 1 Axes>"
      ]
     },
     "metadata": {
      "needs_background": "light"
     },
     "output_type": "display_data"
    }
   ],
   "source": [
    "h = np.array([1e-2, 1e-3, 1e-4, 1e-5, 1e-6, 1e-7, 1e-8])\n",
    "dfx = (f(x+h)-f(x))/h\n",
    "plt.plot(h, dfx - d_f(x))\n",
    "plt.xscale('log')\n",
    "plt.gca().invert_xaxis();"
   ]
  },
  {
   "cell_type": "markdown",
   "id": "52d8f626",
   "metadata": {},
   "source": [
    "In fact, as we shrink $h$ towards an infinitesimally small number, we get the definition of the derivative of a line.\n",
    "\n",
    "$$\\text{Derivative} = \\lim_{h \\rightarrow 0} \\frac{f(x+h) - f(x)}{h}$$\n",
    "\n",
    "Expressed differently, if we adjust the input variable $x$ by a tiny value $h$, we can expect a change in the value of $f(x)$ to be the value of the gradient.\n",
    "\n",
    "__The gradient is how a change in $x$ will affect $f(x)$__\n",
    "\n",
    "We can also express this using the following notation:\n",
    "\n",
    "$$\\frac{\\partial}{\\partial x} f(x) =  \\lim_{h \\rightarrow 0} \\frac{f(x+h) - f(x)}{h} = \\nabla x $$\n",
    "\n",
    "This notation is particularly useful when our functions start to take more than one input, where each input has its own affect on the output. \n",
    "\n",
    "The simplest example of a multivariate function brings us back to perhaps the simplest mathematical operation - addition:\n",
    "\n",
    "$$f(a, b) = a + b$$\n",
    "\n",
    "### Quick Note on Gradients vs Derivatives\n",
    "\n",
    "For univariate functions, derivative and gradient are equivalent.\n",
    "\n",
    "For multivariate functions, the gradient is a vector of partial derivatives, while the directional derivative is a scalar representing the instantaneous rate of change, or the magnitude of the slope in the steepest direction.\n",
    "\n",
    "__Gradient__\n",
    "$$ \\nabla f(a, b) = \\langle \\frac{\\partial}{\\partial a} f(a ,b), \\frac{\\partial}{\\partial b} f(a ,b) \\rangle = \\langle 1, 1 \\rangle$$\n",
    "- This is the more important concept when it comes to neural networks\n",
    "\n",
    "__Directional Derivative__\n",
    "$$\n",
    "\\begin{equation}\n",
    "\\begin{aligned}\n",
    "D_u f(a, b) &=  \\nabla f(a, b) \\cdot \\vec{\\textbf{u}} \\\\\n",
    "&= \\langle 1, 1 \\rangle \\cdot \\langle \\frac{1}{\\sqrt{2}}, \\frac{1}{\\sqrt{2}} \\rangle \\\\\n",
    "&= \\frac{1}{\\sqrt{2}} + \\frac{1}{\\sqrt{2}} \\\\\n",
    "&= \\sqrt{2}\n",
    "\\end{aligned}\n",
    "\\end{equation}\n",
    "$$\n",
    "- Where $\\vec{\\textbf{u}}$ is the unit vector in the direction of gradient\n",
    "\n",
    "### Gradients of a Multivariate Function\n",
    "\n",
    "$a+b$ is a bit too trivial to use as an example, so let's throw in multiplication too\n",
    "\n",
    "$$f(a, b, c) = a*b + c$$"
   ]
  },
  {
   "cell_type": "code",
   "execution_count": 10,
   "id": "8b36d0b7",
   "metadata": {},
   "outputs": [],
   "source": [
    "def f(a, b, c):\n",
    "    return a * b + c"
   ]
  },
  {
   "cell_type": "markdown",
   "id": "b2bb4706",
   "metadata": {},
   "source": [
    "This time, we can't plot it nicely - we would need 4 dimensions (one each for $a$, $b$, $c$, and $f(a,b,c)$)."
   ]
  },
  {
   "cell_type": "code",
   "execution_count": 11,
   "id": "9c6a13e0",
   "metadata": {},
   "outputs": [
    {
     "data": {
      "text/plain": [
       "1.0"
      ]
     },
     "execution_count": 11,
     "metadata": {},
     "output_type": "execute_result"
    }
   ],
   "source": [
    "# pick some values for the inputs\n",
    "a = 2.0\n",
    "b = -1.0\n",
    "c = 3.0\n",
    "\n",
    "# calculate the output\n",
    "f(a, b, c)"
   ]
  },
  {
   "cell_type": "markdown",
   "id": "12e10258",
   "metadata": {},
   "source": [
    "But, our previous way of calculating gradient using small $h$ still works, we can estimate how changes in each variable affects the output."
   ]
  },
  {
   "cell_type": "code",
   "execution_count": 12,
   "id": "d53e6acc",
   "metadata": {},
   "outputs": [
    {
     "name": "stdout",
     "output_type": "stream",
     "text": [
      "Derivative with respect to a:  -1.000000082740371\n",
      "Derivative with respect to b:  2.000000165480742\n",
      "Derivative with respect to c:  1.000000082740371\n"
     ]
    }
   ],
   "source": [
    "# pick a small h\n",
    "h = 1e-10\n",
    "\n",
    "gradient_a = (f(a+h, b, c) - f(a, b, c)) / h\n",
    "print('Derivative with respect to a: ', gradient_a)\n",
    "\n",
    "gradient_b = (f(a, b+h, c) - f(a, b, c)) / h\n",
    "print('Derivative with respect to b: ', gradient_b)\n",
    "\n",
    "gradient_c = (f(a, b, c+h) - f(a, b, c)) / h\n",
    "print('Derivative with respect to c: ', gradient_c)"
   ]
  },
  {
   "cell_type": "markdown",
   "id": "39cc236b",
   "metadata": {},
   "source": [
    "The reason we get the trailing 0/9s and rather than nice whole numbers is a result the comptuers of not being able to precisely express very small decimal numbers in binary (0s & 1s) - this is called floating point precision error.\n",
    "\n",
    "It's also the same reason that this happens:"
   ]
  },
  {
   "cell_type": "code",
   "execution_count": 13,
   "id": "a3761868",
   "metadata": {},
   "outputs": [
    {
     "data": {
      "text/plain": [
       "0.30000000000000004"
      ]
     },
     "execution_count": 13,
     "metadata": {},
     "output_type": "execute_result"
    }
   ],
   "source": [
    "0.1 + 0.2"
   ]
  },
  {
   "cell_type": "markdown",
   "id": "09a3b911",
   "metadata": {},
   "source": [
    "But overlooking that and rounding those numbers to integers, these values make complete sense:\n",
    " - If $a$ increases from 2 to 3, it will be multiplied by -1 (the value of $b$) and change the output by -1.\n",
    " - If $b$ increases from -1 to 0, it will be multiplied by 2 (the value of $a$) and change the output by 2.\n",
    " - If $c$ increases from 3 to 4, it will obviously change the output by 1.\n",
    " \n",
    "Pick some different values for $a$, $b$, $c$ and observe how the gradients change for yourself. You'll notice that:\n",
    " - The gradient of $a$ is always $b$, or $\\frac{\\partial f(a, b, c)}{\\partial a} = b$\n",
    " - The gradient of $b$ is always $a$, or $\\frac{\\partial f(a, b, c)}{\\partial b} = a$\n",
    " - The gradient of $c$ is always $1$, or $\\frac{\\partial f(a, b, c)}{\\partial c} = 1$"
   ]
  },
  {
   "cell_type": "markdown",
   "id": "d7c78067",
   "metadata": {},
   "source": [
    "### Chaining Operations\n",
    "\n",
    "Although this example was pretty straightforward, calculating derivatives of functions with multiple (more than 2) variables can get complicated.\n",
    "\n",
    "Luckily, if we recall order of operations, we need not calculate everything at once - we can calculate one thing at a time, dealing with 2 inputs and 1 operation at each step.\n",
    "\n",
    "To calculate $ a \\cdot b + c$, we can chain our operations with these steps\n",
    "\n",
    " - Calculate $a \\cdot b$ to get $(a \\cdot b) = 2 \\cdot  -1 = -2$\n",
    "\n",
    " - Add $c$ to get $(a \\cdot b) + c = -2 + 3 = 1$\n",
    "\n",
    "Once we break it down like this, our observations make sense:\n",
    "\n",
    "- $\\frac{d}{da} (a\\cdot b) = 1 \\cdot b = b$\n",
    "- $\\frac{d}{db} (a\\cdot b) = a \\cdot 1 = a$\n",
    "- $\\frac{d}{dc} ((a \\cdot b) + c) = 0 + 1 = 1$"
   ]
  },
  {
   "cell_type": "markdown",
   "id": "fcebcd42",
   "metadata": {},
   "source": [
    "# Wrapping Up\n",
    "\n",
    "In hopes of keeping each notebook relatively short and digestible we'll end the discussion on functions and gradients here. You might be asking why we spent a whole notebook deriving derivatives (lol), neural networks don't even nuse this \"tiny $h$\" approach.\n",
    "\n",
    "But we went the long way because I think an intuitive and fundamental understanding of gradients is pretty important to understanding neural networks.\n",
    "\n",
    "__Main Takeaways__\n",
    "1) The gradient is how changes in inputs affects the output.\n",
    "\n",
    "2) We can break down complex functions into smaller parts and \"chain\" them together."
   ]
  }
 ],
 "metadata": {
  "kernelspec": {
   "display_name": "Python 3 (ipykernel)",
   "language": "python",
   "name": "python3"
  },
  "language_info": {
   "codemirror_mode": {
    "name": "ipython",
    "version": 3
   },
   "file_extension": ".py",
   "mimetype": "text/x-python",
   "name": "python",
   "nbconvert_exporter": "python",
   "pygments_lexer": "ipython3",
   "version": "3.9.7"
  }
 },
 "nbformat": 4,
 "nbformat_minor": 5
}
